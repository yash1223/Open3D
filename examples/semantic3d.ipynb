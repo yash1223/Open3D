{
 "cells": [
  {
   "cell_type": "code",
   "execution_count": 1,
   "metadata": {},
   "outputs": [],
   "source": [
    "import numpy as np\n",
    "import open3d\n",
    "import os\n",
    "\n",
    "data_root = \"/home/ylao/data/semantic3d\"\n",
    "point_cloud_file = \"bildstein_station1_xyz_intensity_rgb.txt\"\n",
    "label_file = \"bildstein_station1_xyz_intensity_rgb.labels\""
   ]
  },
  {
   "cell_type": "code",
   "execution_count": 2,
   "metadata": {},
   "outputs": [
    {
     "name": "stdout",
     "output_type": "stream",
     "text": [
      "/home/ylao/data/semantic3d/bildstein_station1_xyz_intensity_rgb.txt\n",
      "PointCloud with 20 points.\n"
     ]
    }
   ],
   "source": [
    "point_cloud_path = os.path.join(data_root, point_cloud_file)\n",
    "rgb_point_cloud = open3d.read_point_cloud(point_cloud_path, format='xyzrgb')\n",
    "\n",
    "\n",
    "print(point_cloud_path)\n",
    "print(rgb_point_cloud)"
   ]
  },
  {
   "cell_type": "code",
   "execution_count": null,
   "metadata": {},
   "outputs": [],
   "source": []
  }
 ],
 "metadata": {
  "kernelspec": {
   "display_name": "Python 3",
   "language": "python",
   "name": "python3"
  },
  "language_info": {
   "codemirror_mode": {
    "name": "ipython",
    "version": 3
   },
   "file_extension": ".py",
   "mimetype": "text/x-python",
   "name": "python",
   "nbconvert_exporter": "python",
   "pygments_lexer": "ipython3",
   "version": "3.6.6"
  }
 },
 "nbformat": 4,
 "nbformat_minor": 2
}
